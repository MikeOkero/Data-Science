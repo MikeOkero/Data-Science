{
 "cells": [
  {
   "cell_type": "markdown",
   "id": "ba11d424-cf96-40ee-bd25-0aa3e15b8f7b",
   "metadata": {},
   "source": [
    "### My Jupyter Notebook"
   ]
  },
  {
   "cell_type": "markdown",
   "id": "f38e4341-175d-4bfd-afc2-136d2a47f29b",
   "metadata": {},
   "source": [
    "I enjoy data science."
   ]
  },
  {
   "cell_type": "markdown",
   "id": "a4cc4e5b-52c6-48ab-af6d-69f5f5fb2d99",
   "metadata": {},
   "source": [
    "Here is a list of some of the most commonly used languages:\n",
    "1. **Python** \n",
    "2. **R** \n",
    "3. **SQL** \n",
    "4. **Julia** \n",
    "5. **SAS** "
   ]
  },
  {
   "cell_type": "markdown",
   "id": "bc3fa7ba-b0ab-410c-9f77-ebb47d68d1a2",
   "metadata": {},
   "source": [
    "Here is a list of some key libraries used in data science:\n",
    "\n",
    "1. **NumPy** \n",
    "2. **pandas** \n",
    "3. **scikit-learn** \n",
    "4. **TensorFlow** \n",
    "5. **ggplot2** \n",
    "6. **Matplotlib** "
   ]
  },
  {
   "cell_type": "markdown",
   "id": "db3ac725-c592-4368-8969-d0f36c56ad78",
   "metadata": {},
   "source": [
    "The following table lists various Data Science tools along with their primary use cases:\n",
    "\n",
    "| **Tool**          | **Description**                                      | **Primary Use Case**               |\n",
    "|-------------------|------------------------------------------------------|-----------------------------------|\n",
    "| **Jupyter Notebook** | Interactive computing environment for code and documentation | Data analysis, visualization, and prototyping |\n",
    "| **RStudio**       | Integrated development environment for R            | Statistical analysis and data visualization |\n",
    "| **TensorFlow**    | Open-source machine learning library by Google       | Deep learning and neural networks |\n",
    "| **Apache Spark**  | Unified analytics engine for big data processing     | Large-scale data processing and analysis |\n",
    "| **Tableau**       | Data visualization tool with interactive dashboards   | Business intelligence and reporting |\n",
    "| **GitHub**        | Platform for version control and collaboration        | Code management and version control |\n",
    "| **Pandas**        | Python library for data manipulation and analysis     | Data cleaning and data manipulation |\n",
    "| **Scikit-learn**  | Python library for machine learning                   | Machine learning algorithms and modeling |"
   ]
  },
  {
   "cell_type": "markdown",
   "id": "73771094-2846-4b64-b147-60034a3c86a6",
   "metadata": {},
   "source": [
    "In this section, we'll explore various examples of arithmetic expressions used in programming and data analysis. These expressions illustrate basic mathematical operations that are fundamental to manipulating and analyzing data."
   ]
  },
  {
   "cell_type": "markdown",
   "id": "5e4e5bde-3344-4406-bfed-318cfd60d869",
   "metadata": {},
   "source": [
    "add=2+4\n",
    "\n",
    "multiply=3*3\n",
    "\n",
    "print(add)\n",
    "print(multiply)"
   ]
  },
  {
   "cell_type": "code",
   "execution_count": 9,
   "id": "ce4f166a-57e5-46a6-aaad-13c835398cb8",
   "metadata": {},
   "outputs": [
    {
     "name": "stdout",
     "output_type": "stream",
     "text": [
      "Minutes: 90\n",
      "Hours: 1.5\n"
     ]
    }
   ],
   "source": [
    "minutes = 90\n",
    "\n",
    "hours = minutes / 60\n",
    "\n",
    "print(\"Minutes:\", minutes)\n",
    "print(\"Hours:\", hours)"
   ]
  },
  {
   "cell_type": "markdown",
   "id": "6e15017c-abb7-46e4-a86c-38503930b24d",
   "metadata": {},
   "source": [
    "Here are some key points to remember:\n",
    "\n",
    "- Data Science involves extracting insights from data.\n",
    "- Python and R are popular languages used in Data Science.\n",
    "- Key skills include programming, statistics, and data visualization.\n",
    "- Tools like Jupyter Notebooks are commonly used for coding and analysis."
   ]
  },
  {
   "cell_type": "markdown",
   "id": "81afe26e-74a9-460d-ad5b-079f1aade77b",
   "metadata": {},
   "source": [
    "Michael Okero"
   ]
  }
 ],
 "metadata": {
  "kernelspec": {
   "display_name": "Python 3 (ipykernel)",
   "language": "python",
   "name": "python3"
  },
  "language_info": {
   "codemirror_mode": {
    "name": "ipython",
    "version": 3
   },
   "file_extension": ".py",
   "mimetype": "text/x-python",
   "name": "python",
   "nbconvert_exporter": "python",
   "pygments_lexer": "ipython3",
   "version": "3.10.14"
  }
 },
 "nbformat": 4,
 "nbformat_minor": 5
}
